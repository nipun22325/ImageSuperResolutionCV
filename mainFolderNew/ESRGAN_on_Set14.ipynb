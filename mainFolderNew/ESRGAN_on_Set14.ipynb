{
  "cells": [
    {
      "cell_type": "code",
      "execution_count": null,
      "metadata": {
        "colab": {
          "base_uri": "https://localhost:8080/"
        },
        "id": "v51eTTroSCdw",
        "outputId": "c81ff7d8-8441-4cc9-84e2-5a6bffa6624b"
      },
      "outputs": [
        {
          "name": "stdout",
          "output_type": "stream",
          "text": [
            "Cloning into 'ImageSuperResolutionCV'...\n",
            "remote: Enumerating objects: 235, done.\u001b[K\n",
            "remote: Counting objects: 100% (11/11), done.\u001b[K\n",
            "remote: Compressing objects: 100% (9/9), done.\u001b[K\n",
            "remote: Total 235 (delta 2), reused 10 (delta 2), pack-reused 224 (from 1)\u001b[K\n",
            "Receiving objects: 100% (235/235), 659.22 MiB | 40.71 MiB/s, done.\n",
            "Resolving deltas: 100% (2/2), done.\n",
            "Updating files: 100% (209/209), done.\n",
            "Filtering content: 100% (2/2), 127.66 MiB | 23.61 MiB/s, done.\n"
          ]
        }
      ],
      "source": [
        "!git clone https://github.com/nipun22325/ImageSuperResolutionCV"
      ]
    },
    {
      "cell_type": "code",
      "execution_count": null,
      "metadata": {
        "colab": {
          "base_uri": "https://localhost:8080/"
        },
        "id": "COMlxIOlSCqt",
        "outputId": "6d89339d-eede-47f1-b154-804d4afd0ebe"
      },
      "outputs": [
        {
          "name": "stdout",
          "output_type": "stream",
          "text": [
            "Mounted at /content/drive\n"
          ]
        }
      ],
      "source": [
        "from google.colab import drive\n",
        "drive.mount('/content/drive')"
      ]
    },
    {
      "cell_type": "code",
      "execution_count": null,
      "metadata": {
        "colab": {
          "base_uri": "https://localhost:8080/"
        },
        "collapsed": true,
        "id": "yXNasQ67S3dz",
        "outputId": "fc59319f-72bd-4fd7-9e3a-e0768619c163"
      },
      "outputs": [
        {
          "name": "stdout",
          "output_type": "stream",
          "text": [
            "Archive:  /content/drive/MyDrive/image_SRF_4.zip\n",
            "   creating: /content/ImageSuperResolutionCV/mainFolder/LR/set14/image_SRF_4/\n",
            "  inflating: /content/ImageSuperResolutionCV/mainFolder/LR/set14/image_SRF_4/img_001_SRF_4_HR.png  \n",
            "  inflating: /content/ImageSuperResolutionCV/mainFolder/LR/set14/image_SRF_4/img_001_SRF_4_LR.png  \n",
            "  inflating: /content/ImageSuperResolutionCV/mainFolder/LR/set14/image_SRF_4/img_002_SRF_4_HR.png  \n",
            "  inflating: /content/ImageSuperResolutionCV/mainFolder/LR/set14/image_SRF_4/img_002_SRF_4_LR.png  \n",
            "  inflating: /content/ImageSuperResolutionCV/mainFolder/LR/set14/image_SRF_4/img_003_SRF_4_HR.png  \n",
            "  inflating: /content/ImageSuperResolutionCV/mainFolder/LR/set14/image_SRF_4/img_003_SRF_4_LR.png  \n",
            "  inflating: /content/ImageSuperResolutionCV/mainFolder/LR/set14/image_SRF_4/img_004_SRF_4_HR.png  \n",
            "  inflating: /content/ImageSuperResolutionCV/mainFolder/LR/set14/image_SRF_4/img_004_SRF_4_LR.png  \n",
            "  inflating: /content/ImageSuperResolutionCV/mainFolder/LR/set14/image_SRF_4/img_005_SRF_4_HR.png  \n",
            "  inflating: /content/ImageSuperResolutionCV/mainFolder/LR/set14/image_SRF_4/img_005_SRF_4_LR.png  \n",
            "  inflating: /content/ImageSuperResolutionCV/mainFolder/LR/set14/image_SRF_4/img_006_SRF_4_HR.png  \n",
            "  inflating: /content/ImageSuperResolutionCV/mainFolder/LR/set14/image_SRF_4/img_006_SRF_4_LR.png  \n",
            "  inflating: /content/ImageSuperResolutionCV/mainFolder/LR/set14/image_SRF_4/img_007_SRF_4_HR.png  \n",
            "  inflating: /content/ImageSuperResolutionCV/mainFolder/LR/set14/image_SRF_4/img_007_SRF_4_LR.png  \n",
            "  inflating: /content/ImageSuperResolutionCV/mainFolder/LR/set14/image_SRF_4/img_008_SRF_4_HR.png  \n",
            "  inflating: /content/ImageSuperResolutionCV/mainFolder/LR/set14/image_SRF_4/img_008_SRF_4_LR.png  \n",
            "  inflating: /content/ImageSuperResolutionCV/mainFolder/LR/set14/image_SRF_4/img_009_SRF_4_HR.png  \n",
            "  inflating: /content/ImageSuperResolutionCV/mainFolder/LR/set14/image_SRF_4/img_009_SRF_4_LR.png  \n",
            "  inflating: /content/ImageSuperResolutionCV/mainFolder/LR/set14/image_SRF_4/img_010_SRF_4_HR.png  \n",
            "  inflating: /content/ImageSuperResolutionCV/mainFolder/LR/set14/image_SRF_4/img_010_SRF_4_LR.png  \n",
            "  inflating: /content/ImageSuperResolutionCV/mainFolder/LR/set14/image_SRF_4/img_011_SRF_4_HR.png  \n",
            "  inflating: /content/ImageSuperResolutionCV/mainFolder/LR/set14/image_SRF_4/img_011_SRF_4_LR.png  \n",
            "  inflating: /content/ImageSuperResolutionCV/mainFolder/LR/set14/image_SRF_4/img_012_SRF_4_HR.png  \n",
            "  inflating: /content/ImageSuperResolutionCV/mainFolder/LR/set14/image_SRF_4/img_012_SRF_4_LR.png  \n",
            "  inflating: /content/ImageSuperResolutionCV/mainFolder/LR/set14/image_SRF_4/img_013_SRF_4_HR.png  \n",
            "  inflating: /content/ImageSuperResolutionCV/mainFolder/LR/set14/image_SRF_4/img_013_SRF_4_LR.png  \n",
            "  inflating: /content/ImageSuperResolutionCV/mainFolder/LR/set14/image_SRF_4/img_014_SRF_4_HR.png  \n",
            "  inflating: /content/ImageSuperResolutionCV/mainFolder/LR/set14/image_SRF_4/img_014_SRF_4_LR.png  \n"
          ]
        }
      ],
      "source": [
        "!unzip /content/drive/MyDrive/image_SRF_4.zip -d /content/ImageSuperResolutionCV/mainFolderNew/images/set14"
      ]
    },
    {
      "cell_type": "code",
      "execution_count": null,
      "metadata": {
        "colab": {
          "base_uri": "https://localhost:8080/"
        },
        "collapsed": true,
        "id": "9snG1CG_TIDm",
        "outputId": "285d3a28-e4e3-44a2-b7ce-ef83b57f26f3"
      },
      "outputs": [
        {
          "name": "stdout",
          "output_type": "stream",
          "text": [
            "Collecting lpips\n",
            "  Downloading lpips-0.1.4-py3-none-any.whl.metadata (10 kB)\n",
            "Requirement already satisfied: torch>=0.4.0 in /usr/local/lib/python3.11/dist-packages (from lpips) (2.6.0+cu124)\n",
            "Requirement already satisfied: torchvision>=0.2.1 in /usr/local/lib/python3.11/dist-packages (from lpips) (0.21.0+cu124)\n",
            "Requirement already satisfied: numpy>=1.14.3 in /usr/local/lib/python3.11/dist-packages (from lpips) (2.0.2)\n",
            "Requirement already satisfied: scipy>=1.0.1 in /usr/local/lib/python3.11/dist-packages (from lpips) (1.14.1)\n",
            "Requirement already satisfied: tqdm>=4.28.1 in /usr/local/lib/python3.11/dist-packages (from lpips) (4.67.1)\n",
            "Requirement already satisfied: filelock in /usr/local/lib/python3.11/dist-packages (from torch>=0.4.0->lpips) (3.18.0)\n",
            "Requirement already satisfied: typing-extensions>=4.10.0 in /usr/local/lib/python3.11/dist-packages (from torch>=0.4.0->lpips) (4.12.2)\n",
            "Requirement already satisfied: networkx in /usr/local/lib/python3.11/dist-packages (from torch>=0.4.0->lpips) (3.4.2)\n",
            "Requirement already satisfied: jinja2 in /usr/local/lib/python3.11/dist-packages (from torch>=0.4.0->lpips) (3.1.6)\n",
            "Requirement already satisfied: fsspec in /usr/local/lib/python3.11/dist-packages (from torch>=0.4.0->lpips) (2025.3.0)\n",
            "Collecting nvidia-cuda-nvrtc-cu12==12.4.127 (from torch>=0.4.0->lpips)\n",
            "  Downloading nvidia_cuda_nvrtc_cu12-12.4.127-py3-none-manylinux2014_x86_64.whl.metadata (1.5 kB)\n",
            "Collecting nvidia-cuda-runtime-cu12==12.4.127 (from torch>=0.4.0->lpips)\n",
            "  Downloading nvidia_cuda_runtime_cu12-12.4.127-py3-none-manylinux2014_x86_64.whl.metadata (1.5 kB)\n",
            "Collecting nvidia-cuda-cupti-cu12==12.4.127 (from torch>=0.4.0->lpips)\n",
            "  Downloading nvidia_cuda_cupti_cu12-12.4.127-py3-none-manylinux2014_x86_64.whl.metadata (1.6 kB)\n",
            "Collecting nvidia-cudnn-cu12==9.1.0.70 (from torch>=0.4.0->lpips)\n",
            "  Downloading nvidia_cudnn_cu12-9.1.0.70-py3-none-manylinux2014_x86_64.whl.metadata (1.6 kB)\n",
            "Collecting nvidia-cublas-cu12==12.4.5.8 (from torch>=0.4.0->lpips)\n",
            "  Downloading nvidia_cublas_cu12-12.4.5.8-py3-none-manylinux2014_x86_64.whl.metadata (1.5 kB)\n",
            "Collecting nvidia-cufft-cu12==11.2.1.3 (from torch>=0.4.0->lpips)\n",
            "  Downloading nvidia_cufft_cu12-11.2.1.3-py3-none-manylinux2014_x86_64.whl.metadata (1.5 kB)\n",
            "Collecting nvidia-curand-cu12==10.3.5.147 (from torch>=0.4.0->lpips)\n",
            "  Downloading nvidia_curand_cu12-10.3.5.147-py3-none-manylinux2014_x86_64.whl.metadata (1.5 kB)\n",
            "Collecting nvidia-cusolver-cu12==11.6.1.9 (from torch>=0.4.0->lpips)\n",
            "  Downloading nvidia_cusolver_cu12-11.6.1.9-py3-none-manylinux2014_x86_64.whl.metadata (1.6 kB)\n",
            "Collecting nvidia-cusparse-cu12==12.3.1.170 (from torch>=0.4.0->lpips)\n",
            "  Downloading nvidia_cusparse_cu12-12.3.1.170-py3-none-manylinux2014_x86_64.whl.metadata (1.6 kB)\n",
            "Requirement already satisfied: nvidia-cusparselt-cu12==0.6.2 in /usr/local/lib/python3.11/dist-packages (from torch>=0.4.0->lpips) (0.6.2)\n",
            "Requirement already satisfied: nvidia-nccl-cu12==2.21.5 in /usr/local/lib/python3.11/dist-packages (from torch>=0.4.0->lpips) (2.21.5)\n",
            "Requirement already satisfied: nvidia-nvtx-cu12==12.4.127 in /usr/local/lib/python3.11/dist-packages (from torch>=0.4.0->lpips) (12.4.127)\n",
            "Collecting nvidia-nvjitlink-cu12==12.4.127 (from torch>=0.4.0->lpips)\n",
            "  Downloading nvidia_nvjitlink_cu12-12.4.127-py3-none-manylinux2014_x86_64.whl.metadata (1.5 kB)\n",
            "Requirement already satisfied: triton==3.2.0 in /usr/local/lib/python3.11/dist-packages (from torch>=0.4.0->lpips) (3.2.0)\n",
            "Requirement already satisfied: sympy==1.13.1 in /usr/local/lib/python3.11/dist-packages (from torch>=0.4.0->lpips) (1.13.1)\n",
            "Requirement already satisfied: mpmath<1.4,>=1.1.0 in /usr/local/lib/python3.11/dist-packages (from sympy==1.13.1->torch>=0.4.0->lpips) (1.3.0)\n",
            "Requirement already satisfied: pillow!=8.3.*,>=5.3.0 in /usr/local/lib/python3.11/dist-packages (from torchvision>=0.2.1->lpips) (11.1.0)\n",
            "Requirement already satisfied: MarkupSafe>=2.0 in /usr/local/lib/python3.11/dist-packages (from jinja2->torch>=0.4.0->lpips) (3.0.2)\n",
            "Downloading lpips-0.1.4-py3-none-any.whl (53 kB)\n",
            "\u001b[2K   \u001b[90m━━━━━━━━━━━━━━━━━━━━━━━━━━━━━━━━━━━━━━━━\u001b[0m \u001b[32m53.8/53.8 kB\u001b[0m \u001b[31m2.5 MB/s\u001b[0m eta \u001b[36m0:00:00\u001b[0m\n",
            "\u001b[?25hDownloading nvidia_cublas_cu12-12.4.5.8-py3-none-manylinux2014_x86_64.whl (363.4 MB)\n",
            "\u001b[2K   \u001b[90m━━━━━━━━━━━━━━━━━━━━━━━━━━━━━━━━━━━━━━━━\u001b[0m \u001b[32m363.4/363.4 MB\u001b[0m \u001b[31m4.0 MB/s\u001b[0m eta \u001b[36m0:00:00\u001b[0m\n",
            "\u001b[?25hDownloading nvidia_cuda_cupti_cu12-12.4.127-py3-none-manylinux2014_x86_64.whl (13.8 MB)\n",
            "\u001b[2K   \u001b[90m━━━━━━━━━━━━━━━━━━━━━━━━━━━━━━━━━━━━━━━━\u001b[0m \u001b[32m13.8/13.8 MB\u001b[0m \u001b[31m109.2 MB/s\u001b[0m eta \u001b[36m0:00:00\u001b[0m\n",
            "\u001b[?25hDownloading nvidia_cuda_nvrtc_cu12-12.4.127-py3-none-manylinux2014_x86_64.whl (24.6 MB)\n",
            "\u001b[2K   \u001b[90m━━━━━━━━━━━━━━━━━━━━━━━━━━━━━━━━━━━━━━━━\u001b[0m \u001b[32m24.6/24.6 MB\u001b[0m \u001b[31m84.4 MB/s\u001b[0m eta \u001b[36m0:00:00\u001b[0m\n",
            "\u001b[?25hDownloading nvidia_cuda_runtime_cu12-12.4.127-py3-none-manylinux2014_x86_64.whl (883 kB)\n",
            "\u001b[2K   \u001b[90m━━━━━━━━━━━━━━━━━━━━━━━━━━━━━━━━━━━━━━━━\u001b[0m \u001b[32m883.7/883.7 kB\u001b[0m \u001b[31m52.3 MB/s\u001b[0m eta \u001b[36m0:00:00\u001b[0m\n",
            "\u001b[?25hDownloading nvidia_cudnn_cu12-9.1.0.70-py3-none-manylinux2014_x86_64.whl (664.8 MB)\n",
            "\u001b[2K   \u001b[90m━━━━━━━━━━━━━━━━━━━━━━━━━━━━━━━━━━━━━━━━\u001b[0m \u001b[32m664.8/664.8 MB\u001b[0m \u001b[31m2.6 MB/s\u001b[0m eta \u001b[36m0:00:00\u001b[0m\n",
            "\u001b[?25hDownloading nvidia_cufft_cu12-11.2.1.3-py3-none-manylinux2014_x86_64.whl (211.5 MB)\n",
            "\u001b[2K   \u001b[90m━━━━━━━━━━━━━━━━━━━━━━━━━━━━━━━━━━━━━━━━\u001b[0m \u001b[32m211.5/211.5 MB\u001b[0m \u001b[31m5.1 MB/s\u001b[0m eta \u001b[36m0:00:00\u001b[0m\n",
            "\u001b[?25hDownloading nvidia_curand_cu12-10.3.5.147-py3-none-manylinux2014_x86_64.whl (56.3 MB)\n",
            "\u001b[2K   \u001b[90m━━━━━━━━━━━━━━━━━━━━━━━━━━━━━━━━━━━━━━━━\u001b[0m \u001b[32m56.3/56.3 MB\u001b[0m \u001b[31m12.3 MB/s\u001b[0m eta \u001b[36m0:00:00\u001b[0m\n",
            "\u001b[?25hDownloading nvidia_cusolver_cu12-11.6.1.9-py3-none-manylinux2014_x86_64.whl (127.9 MB)\n",
            "\u001b[2K   \u001b[90m━━━━━━━━━━━━━━━━━━━━━━━━━━━━━━━━━━━━━━━━\u001b[0m \u001b[32m127.9/127.9 MB\u001b[0m \u001b[31m7.5 MB/s\u001b[0m eta \u001b[36m0:00:00\u001b[0m\n",
            "\u001b[?25hDownloading nvidia_cusparse_cu12-12.3.1.170-py3-none-manylinux2014_x86_64.whl (207.5 MB)\n",
            "\u001b[2K   \u001b[90m━━━━━━━━━━━━━━━━━━━━━━━━━━━━━━━━━━━━━━━━\u001b[0m \u001b[32m207.5/207.5 MB\u001b[0m \u001b[31m6.0 MB/s\u001b[0m eta \u001b[36m0:00:00\u001b[0m\n",
            "\u001b[?25hDownloading nvidia_nvjitlink_cu12-12.4.127-py3-none-manylinux2014_x86_64.whl (21.1 MB)\n",
            "\u001b[2K   \u001b[90m━━━━━━━━━━━━━━━━━━━━━━━━━━━━━━━━━━━━━━━━\u001b[0m \u001b[32m21.1/21.1 MB\u001b[0m \u001b[31m91.3 MB/s\u001b[0m eta \u001b[36m0:00:00\u001b[0m\n",
            "\u001b[?25hInstalling collected packages: nvidia-nvjitlink-cu12, nvidia-curand-cu12, nvidia-cufft-cu12, nvidia-cuda-runtime-cu12, nvidia-cuda-nvrtc-cu12, nvidia-cuda-cupti-cu12, nvidia-cublas-cu12, nvidia-cusparse-cu12, nvidia-cudnn-cu12, nvidia-cusolver-cu12, lpips\n",
            "  Attempting uninstall: nvidia-nvjitlink-cu12\n",
            "    Found existing installation: nvidia-nvjitlink-cu12 12.5.82\n",
            "    Uninstalling nvidia-nvjitlink-cu12-12.5.82:\n",
            "      Successfully uninstalled nvidia-nvjitlink-cu12-12.5.82\n",
            "  Attempting uninstall: nvidia-curand-cu12\n",
            "    Found existing installation: nvidia-curand-cu12 10.3.6.82\n",
            "    Uninstalling nvidia-curand-cu12-10.3.6.82:\n",
            "      Successfully uninstalled nvidia-curand-cu12-10.3.6.82\n",
            "  Attempting uninstall: nvidia-cufft-cu12\n",
            "    Found existing installation: nvidia-cufft-cu12 11.2.3.61\n",
            "    Uninstalling nvidia-cufft-cu12-11.2.3.61:\n",
            "      Successfully uninstalled nvidia-cufft-cu12-11.2.3.61\n",
            "  Attempting uninstall: nvidia-cuda-runtime-cu12\n",
            "    Found existing installation: nvidia-cuda-runtime-cu12 12.5.82\n",
            "    Uninstalling nvidia-cuda-runtime-cu12-12.5.82:\n",
            "      Successfully uninstalled nvidia-cuda-runtime-cu12-12.5.82\n",
            "  Attempting uninstall: nvidia-cuda-nvrtc-cu12\n",
            "    Found existing installation: nvidia-cuda-nvrtc-cu12 12.5.82\n",
            "    Uninstalling nvidia-cuda-nvrtc-cu12-12.5.82:\n",
            "      Successfully uninstalled nvidia-cuda-nvrtc-cu12-12.5.82\n",
            "  Attempting uninstall: nvidia-cuda-cupti-cu12\n",
            "    Found existing installation: nvidia-cuda-cupti-cu12 12.5.82\n",
            "    Uninstalling nvidia-cuda-cupti-cu12-12.5.82:\n",
            "      Successfully uninstalled nvidia-cuda-cupti-cu12-12.5.82\n",
            "  Attempting uninstall: nvidia-cublas-cu12\n",
            "    Found existing installation: nvidia-cublas-cu12 12.5.3.2\n",
            "    Uninstalling nvidia-cublas-cu12-12.5.3.2:\n",
            "      Successfully uninstalled nvidia-cublas-cu12-12.5.3.2\n",
            "  Attempting uninstall: nvidia-cusparse-cu12\n",
            "    Found existing installation: nvidia-cusparse-cu12 12.5.1.3\n",
            "    Uninstalling nvidia-cusparse-cu12-12.5.1.3:\n",
            "      Successfully uninstalled nvidia-cusparse-cu12-12.5.1.3\n",
            "  Attempting uninstall: nvidia-cudnn-cu12\n",
            "    Found existing installation: nvidia-cudnn-cu12 9.3.0.75\n",
            "    Uninstalling nvidia-cudnn-cu12-9.3.0.75:\n",
            "      Successfully uninstalled nvidia-cudnn-cu12-9.3.0.75\n",
            "  Attempting uninstall: nvidia-cusolver-cu12\n",
            "    Found existing installation: nvidia-cusolver-cu12 11.6.3.83\n",
            "    Uninstalling nvidia-cusolver-cu12-11.6.3.83:\n",
            "      Successfully uninstalled nvidia-cusolver-cu12-11.6.3.83\n",
            "Successfully installed lpips-0.1.4 nvidia-cublas-cu12-12.4.5.8 nvidia-cuda-cupti-cu12-12.4.127 nvidia-cuda-nvrtc-cu12-12.4.127 nvidia-cuda-runtime-cu12-12.4.127 nvidia-cudnn-cu12-9.1.0.70 nvidia-cufft-cu12-11.2.1.3 nvidia-curand-cu12-10.3.5.147 nvidia-cusolver-cu12-11.6.1.9 nvidia-cusparse-cu12-12.3.1.170 nvidia-nvjitlink-cu12-12.4.127\n"
          ]
        }
      ],
      "source": [
        "!pip install lpips"
      ]
    },
    {
      "cell_type": "code",
      "execution_count": null,
      "metadata": {
        "colab": {
          "base_uri": "https://localhost:8080/"
        },
        "id": "doPS4lESTYeD",
        "outputId": "5ec872c5-e021-4d2a-d3fe-3e8c616cfa9a"
      },
      "outputs": [
        {
          "name": "stdout",
          "output_type": "stream",
          "text": [
            "img_007_SRF_4_HR.png   HR\n",
            "img_009_SRF_4_LR.png   LR\n",
            "img_002_SRF_4_LR.png   LR\n",
            "img_010_SRF_4_LR.png   LR\n",
            "img_001_SRF_4_LR.png   LR\n",
            "img_011_SRF_4_HR.png   HR\n",
            "img_013_SRF_4_HR.png   HR\n",
            "img_014_SRF_4_LR.png   LR\n",
            "img_008_SRF_4_LR.png   LR\n",
            "img_002_SRF_4_HR.png   HR\n",
            "img_004_SRF_4_HR.png   HR\n",
            "img_011_SRF_4_LR.png   LR\n",
            "img_012_SRF_4_LR.png   LR\n",
            "img_006_SRF_4_HR.png   HR\n",
            "img_008_SRF_4_HR.png   HR\n",
            "img_013_SRF_4_LR.png   LR\n",
            "img_005_SRF_4_HR.png   HR\n",
            ".ipynb_checkpoints   checkpoints\n",
            "img_009_SRF_4_HR.png   HR\n",
            "img_014_SRF_4_HR.png   HR\n",
            "img_004_SRF_4_LR.png   LR\n",
            "img_012_SRF_4_HR.png   HR\n",
            "img_003_SRF_4_HR.png   HR\n",
            "img_001_SRF_4_HR.png   HR\n",
            "img_006_SRF_4_LR.png   LR\n",
            "img_007_SRF_4_LR.png   LR\n",
            "img_005_SRF_4_LR.png   LR\n",
            "img_010_SRF_4_HR.png   HR\n",
            "img_003_SRF_4_LR.png   LR\n"
          ]
        }
      ],
      "source": [
        "import os\n",
        "images = os.listdir('/content/ImageSuperResolutionCV/mainFolderNew/images/set14/image_SRF_4')\n",
        "images.remove('HR')\n",
        "images.remove('LR')\n",
        "for image in images:\n",
        "  quality = image.split('_')[-1].split('.')[0]\n",
        "  print(image, ' ', quality)\n",
        "  if quality == 'HR':\n",
        "    os.rename(f\"/content/ImageSuperResolutionCV/mainFolderNew/images/set14/image_SRF_4/{image}\",\n",
        "              f\"/content/ImageSuperResolutionCV/mainFolderNew/images/set14/image_SRF_4/HR/{image}\")\n",
        "  elif (quality == 'LR'):\n",
        "    os.rename(f\"/content/ImageSuperResolutionCV/mainFolderNew/images/set14/image_SRF_4/{image}\",\n",
        "              f\"/content/ImageSuperResolutionCV/mainFolderNew/images/set14/image_SRF_4/LR/{image}\")"
      ]
    },
    {
      "cell_type": "code",
      "execution_count": null,
      "metadata": {
        "colab": {
          "base_uri": "https://localhost:8080/"
        },
        "id": "CWf8MgfkViu6",
        "outputId": "c2ae9e4f-9e78-41e7-88ab-4cbdce6706db"
      },
      "outputs": [
        {
          "name": "stdout",
          "output_type": "stream",
          "text": [
            "Setting up [LPIPS] perceptual loss: trunk [alex], v[0.1], spatial [off]\n",
            "/usr/local/lib/python3.11/dist-packages/torchvision/models/_utils.py:208: UserWarning: The parameter 'pretrained' is deprecated since 0.13 and may be removed in the future, please use 'weights' instead.\n",
            "  warnings.warn(\n",
            "/usr/local/lib/python3.11/dist-packages/torchvision/models/_utils.py:223: UserWarning: Arguments other than a weight enum or `None` for 'weights' are deprecated since 0.13 and may be removed in the future. The current behavior is equivalent to passing `weights=AlexNet_Weights.IMAGENET1K_V1`. You can also use `weights=AlexNet_Weights.DEFAULT` to get the most up-to-date weights.\n",
            "  warnings.warn(msg)\n",
            "Loading model from: /usr/local/lib/python3.11/dist-packages/lpips/weights/v0.1/alex.pth\n",
            "Model path /content/ImageSuperResolutionCV/mainFolder/models/RRDB_ESRGAN_x4.pth. \n",
            "Testing...\n",
            "1 img_009_SRF_4_LR\n",
            "Image: img_009_SRF_4_LR, PSNR: 27.9583, SSIM: 0.7841, LPIPS: 0.0585\n",
            "2 img_002_SRF_4_LR\n",
            "Image: img_002_SRF_4_LR, PSNR: 22.5955, SSIM: 0.6971, LPIPS: 0.2485\n",
            "3 img_010_SRF_4_LR\n",
            "Image: img_010_SRF_4_LR, PSNR: 23.1971, SSIM: 0.6605, LPIPS: 0.1369\n",
            "4 img_001_SRF_4_LR\n",
            "Image: img_001_SRF_4_LR, PSNR: 18.5804, SSIM: 0.4434, LPIPS: 0.1737\n",
            "5 img_014_SRF_4_LR\n",
            "Image: img_014_SRF_4_LR, PSNR: 23.1180, SSIM: 0.6427, LPIPS: 0.1096\n",
            "6 img_008_SRF_4_LR\n",
            "Image: img_008_SRF_4_LR, PSNR: 28.3790, SSIM: 0.8765, LPIPS: 0.0483\n",
            "7 img_011_SRF_4_LR\n",
            "Image: img_011_SRF_4_LR, PSNR: 30.3542, SSIM: 0.9204, LPIPS: 0.0408\n",
            "8 img_012_SRF_4_LR\n",
            "Image: img_012_SRF_4_LR, PSNR: 28.7054, SSIM: 0.8186, LPIPS: 0.0439\n",
            "9 img_013_SRF_4_LR\n",
            "Image: img_013_SRF_4_LR, PSNR: 24.2476, SSIM: 0.9395, LPIPS: 0.0362\n",
            "10 img_004_SRF_4_LR\n",
            "Image: img_004_SRF_4_LR, PSNR: 21.3006, SSIM: 0.3701, LPIPS: 0.1755\n",
            "11 img_006_SRF_4_LR\n",
            "Image: img_006_SRF_4_LR, PSNR: 28.0377, SSIM: 0.7045, LPIPS: 0.0753\n",
            "12 img_007_SRF_4_LR\n",
            "Image: img_007_SRF_4_LR, PSNR: 24.0223, SSIM: 0.7527, LPIPS: 0.0752\n",
            "13 img_005_SRF_4_LR\n",
            "Image: img_005_SRF_4_LR, PSNR: 19.5267, SSIM: 0.6694, LPIPS: 0.1206\n",
            "14 img_003_SRF_4_LR\n",
            "Image: img_003_SRF_4_LR, PSNR: 20.6778, SSIM: 0.5129, LPIPS: 0.1954\n",
            "\n",
            "Average PSNR: 24.3358\n",
            "Average SSIM: 0.6995\n",
            "Average LPIPS: 0.1099\n"
          ]
        }
      ],
      "source": [
        "!python3 /content/ImageSuperResolutionCV/mainFolderNew/test-set14-esrgan.py RRDB_ESRGAN_x4"
      ]
    },
    {
      "cell_type": "code",
      "execution_count": null,
      "metadata": {
        "colab": {
          "base_uri": "https://localhost:8080/"
        },
        "id": "0Yllc6WQXZoR",
        "outputId": "a4906e1f-d761-465c-ca9f-b3c667da60ad"
      },
      "outputs": [
        {
          "name": "stdout",
          "output_type": "stream",
          "text": [
            "Setting up [LPIPS] perceptual loss: trunk [alex], v[0.1], spatial [off]\n",
            "/usr/local/lib/python3.11/dist-packages/torchvision/models/_utils.py:208: UserWarning: The parameter 'pretrained' is deprecated since 0.13 and may be removed in the future, please use 'weights' instead.\n",
            "  warnings.warn(\n",
            "/usr/local/lib/python3.11/dist-packages/torchvision/models/_utils.py:223: UserWarning: Arguments other than a weight enum or `None` for 'weights' are deprecated since 0.13 and may be removed in the future. The current behavior is equivalent to passing `weights=AlexNet_Weights.IMAGENET1K_V1`. You can also use `weights=AlexNet_Weights.DEFAULT` to get the most up-to-date weights.\n",
            "  warnings.warn(msg)\n",
            "Loading model from: /usr/local/lib/python3.11/dist-packages/lpips/weights/v0.1/alex.pth\n",
            "Model path /content/ImageSuperResolutionCV/mainFolder/models/RRDB_PSNR_x4.pth. \n",
            "Testing...\n",
            "1 img_009_SRF_4_LR\n",
            "Image: img_009_SRF_4_LR, PSNR: 30.8391, SSIM: 0.8619, LPIPS: 0.1361\n",
            "2 img_002_SRF_4_LR\n",
            "Image: img_002_SRF_4_LR, PSNR: 24.8081, SSIM: 0.7711, LPIPS: 0.2936\n",
            "3 img_010_SRF_4_LR\n",
            "Image: img_010_SRF_4_LR, PSNR: 26.2724, SSIM: 0.7574, LPIPS: 0.2447\n",
            "4 img_001_SRF_4_LR\n",
            "Image: img_001_SRF_4_LR, PSNR: 21.0219, SSIM: 0.5617, LPIPS: 0.4197\n",
            "5 img_014_SRF_4_LR\n",
            "Image: img_014_SRF_4_LR, PSNR: 26.8532, SSIM: 0.7930, LPIPS: 0.2777\n",
            "6 img_008_SRF_4_LR\n",
            "Image: img_008_SRF_4_LR, PSNR: 29.6696, SSIM: 0.9215, LPIPS: 0.0988\n",
            "7 img_011_SRF_4_LR\n",
            "Image: img_011_SRF_4_LR, PSNR: 32.5662, SSIM: 0.9476, LPIPS: 0.0795\n",
            "8 img_012_SRF_4_LR\n",
            "Image: img_012_SRF_4_LR, PSNR: 30.3495, SSIM: 0.8712, LPIPS: 0.1304\n",
            "9 img_013_SRF_4_LR\n",
            "Image: img_013_SRF_4_LR, PSNR: 26.0118, SSIM: 0.9614, LPIPS: 0.0426\n",
            "10 img_004_SRF_4_LR\n",
            "Image: img_004_SRF_4_LR, PSNR: 24.9052, SSIM: 0.5663, LPIPS: 0.3732\n",
            "11 img_006_SRF_4_LR\n",
            "Image: img_006_SRF_4_LR, PSNR: 30.0728, SSIM: 0.7938, LPIPS: 0.2524\n",
            "12 img_007_SRF_4_LR\n",
            "Image: img_007_SRF_4_LR, PSNR: 26.8268, SSIM: 0.8364, LPIPS: 0.1459\n",
            "13 img_005_SRF_4_LR\n",
            "Image: img_005_SRF_4_LR, PSNR: 22.5380, SSIM: 0.7807, LPIPS: 0.1916\n",
            "14 img_003_SRF_4_LR\n",
            "Image: img_003_SRF_4_LR, PSNR: 24.2209, SSIM: 0.6658, LPIPS: 0.3877\n",
            "\n",
            "Average PSNR: 26.9254\n",
            "Average SSIM: 0.7921\n",
            "Average LPIPS: 0.2196\n"
          ]
        }
      ],
      "source": [
        "!python3 /content/ImageSuperResolutionCV/mainFolderNew/test-set14-esrgan.py RRDB_PSNR_x4"
      ]
    },
    {
      "cell_type": "code",
      "execution_count": null,
      "metadata": {
        "colab": {
          "base_uri": "https://localhost:8080/",
          "height": 297
        },
        "id": "5_J5SlttYeVe",
        "outputId": "74f13552-95f8-4927-bd20-37db2c5881f8"
      },
      "outputs": [
        {
          "name": "stdout",
          "output_type": "stream",
          "text": [
            "updating: content/ImageSuperResolutionCV/mainFolder/results/ (stored 0%)\n",
            "updating: content/ImageSuperResolutionCV/mainFolder/results/img_008_SRF_4_LR_rlt.png (deflated 1%)\n",
            "updating: content/ImageSuperResolutionCV/mainFolder/results/img_006_SRF_4_LR_rlt.png (deflated 0%)\n",
            "updating: content/ImageSuperResolutionCV/mainFolder/results/img_001_SRF_4_LR_rlt.png (deflated 0%)\n",
            "updating: content/ImageSuperResolutionCV/mainFolder/results/img_005_SRF_4_LR_rlt.png (deflated 0%)\n",
            "updating: content/ImageSuperResolutionCV/mainFolder/results/img_004_SRF_4_LR_rlt.png (deflated 0%)\n",
            "updating: content/ImageSuperResolutionCV/mainFolder/results/img_011_SRF_4_LR_rlt.png (deflated 0%)\n",
            "updating: content/ImageSuperResolutionCV/mainFolder/results/img_002_SRF_4_LR_rlt.png (deflated 0%)\n",
            "updating: content/ImageSuperResolutionCV/mainFolder/results/img_010_SRF_4_LR_rlt.png (deflated 0%)\n",
            "updating: content/ImageSuperResolutionCV/mainFolder/results/img_003_SRF_4_LR_rlt.png (deflated 0%)\n",
            "updating: content/ImageSuperResolutionCV/mainFolder/results/img_009_SRF_4_LR_rlt.png (deflated 0%)\n",
            "updating: content/ImageSuperResolutionCV/mainFolder/results/img_014_SRF_4_LR_rlt.png (deflated 0%)\n",
            "updating: content/ImageSuperResolutionCV/mainFolder/results/img_012_SRF_4_LR_rlt.png (deflated 0%)\n",
            "updating: content/ImageSuperResolutionCV/mainFolder/results/img_007_SRF_4_LR_rlt.png (deflated 0%)\n",
            "updating: content/ImageSuperResolutionCV/mainFolder/results/img_013_SRF_4_LR_rlt.png (deflated 1%)\n"
          ]
        },
        {
          "data": {
            "application/javascript": "\n    async function download(id, filename, size) {\n      if (!google.colab.kernel.accessAllowed) {\n        return;\n      }\n      const div = document.createElement('div');\n      const label = document.createElement('label');\n      label.textContent = `Downloading \"${filename}\": `;\n      div.appendChild(label);\n      const progress = document.createElement('progress');\n      progress.max = size;\n      div.appendChild(progress);\n      document.body.appendChild(div);\n\n      const buffers = [];\n      let downloaded = 0;\n\n      const channel = await google.colab.kernel.comms.open(id);\n      // Send a message to notify the kernel that we're ready.\n      channel.send({})\n\n      for await (const message of channel.messages) {\n        // Send a message to notify the kernel that we're ready.\n        channel.send({})\n        if (message.buffers) {\n          for (const buffer of message.buffers) {\n            buffers.push(buffer);\n            downloaded += buffer.byteLength;\n            progress.value = downloaded;\n          }\n        }\n      }\n      const blob = new Blob(buffers, {type: 'application/binary'});\n      const a = document.createElement('a');\n      a.href = window.URL.createObjectURL(blob);\n      a.download = filename;\n      div.appendChild(a);\n      a.click();\n      div.remove();\n    }\n  ",
            "text/plain": [
              "<IPython.core.display.Javascript object>"
            ]
          },
          "metadata": {},
          "output_type": "display_data"
        },
        {
          "data": {
            "application/javascript": "download(\"download_cbf3863f-2381-491b-a291-672ac7bd389f\", \"downloaded_folder.zip\", 6216865)",
            "text/plain": [
              "<IPython.core.display.Javascript object>"
            ]
          },
          "metadata": {},
          "output_type": "display_data"
        }
      ],
      "source": [
        "from google.colab import files\n",
        "folder_path = '/content/ImageSuperResolutionCV/mainFolderNew/results'\n",
        "!zip -r /content/downloaded_folder.zip {folder_path}\n",
        "files.download('/content/downloaded_folder.zip')"
      ]
    }
  ],
  "metadata": {
    "accelerator": "GPU",
    "colab": {
      "gpuType": "T4",
      "provenance": []
    },
    "kernelspec": {
      "display_name": "Python 3",
      "name": "python3"
    },
    "language_info": {
      "name": "python"
    }
  },
  "nbformat": 4,
  "nbformat_minor": 0
}
